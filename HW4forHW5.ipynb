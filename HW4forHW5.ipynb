{
 "cells": [
  {
   "cell_type": "code",
   "execution_count": 1,
   "id": "ec576670-cea8-4ec4-9fcc-6e2fe859b1cc",
   "metadata": {},
   "outputs": [
    {
     "name": "stdin",
     "output_type": "stream",
     "text": [
      "Введите команду: p\n",
      "Введите номер документа: 10006\n"
     ]
    },
    {
     "name": "stdout",
     "output_type": "stream",
     "text": [
      "Владелец документа: Аристарх Павлов\n"
     ]
    },
    {
     "name": "stdin",
     "output_type": "stream",
     "text": [
      "Введите команду: p\n",
      "Введите номер документа: 1006\n"
     ]
    },
    {
     "name": "stdout",
     "output_type": "stream",
     "text": [
      "Владелец документа: владелец не найден\n"
     ]
    },
    {
     "name": "stdin",
     "output_type": "stream",
     "text": [
      "Введите команду: q\n"
     ]
    }
   ],
   "source": [
    "documents = [\n",
    "{'type': 'passport', 'number': '2207 876234', 'name': 'Василий Гупкин'},\n",
    "{'type': 'invoice', 'number': '11-2', 'name': 'Геннадий Покемонов'},\n",
    "{'type': 'insurance', 'number': '10006', 'name': 'Аристарх Павлов'}\n",
    "]\n",
    "\n",
    "directories = {\n",
    "'1': ['2207 876234', '11-2'],\n",
    "'2': ['10006'],\n",
    "'3': []\n",
    "}\n",
    "\n",
    "directories['3'].append(directories['1'].pop())\n",
    "directories\n",
    "\n",
    "def user_interface(): # вводим через функцию переменную user_interface, которая будет задавать команды\n",
    "  while True: # запускаем цикл через while, о том, что пока выполняется условие, цикл будет повторяться до бесконечности\n",
    "    request = input(\"Введите команду:\") # выводим первую команду на экран\n",
    "    if request == 'p': # задаем условие, что если по первой команде буква 'p', то далее идет вывод окна второй команды на экран\n",
    "      number_of_document = input(\"Введите номер документа:\") # выводим вторую команду на экран\n",
    "      for i in documents: # запускаем цикла for, который перебирает documents\n",
    "        if i[\"number\"] == number_of_document: # перебираем documents по значению \"number\", которое вводится во вторую командную строку\n",
    "          print(\"Владелец документа:\",i[\"name\"]) # и если номер в списке словарей documents находится, то выводим третью строку на экран с именем человека по значению словаря \"name\"\n",
    "          break\n",
    "      else:\n",
    "          print(\"Владелец документа: владелец не найден\") # если номер не значится в списке, то пишем альтернативную фразу\n",
    "\n",
    "\n",
    "    elif request == 'q': # в случае введения в командной строке \"Введите команду\" значения 'q', цикл завершается\n",
    "      break\n",
    "\n",
    "user_interface()"
   ]
  },
  {
   "cell_type": "code",
   "execution_count": null,
   "id": "32753cb7-0dbe-488b-89cd-a6c81f8d36cb",
   "metadata": {},
   "outputs": [],
   "source": []
  }
 ],
 "metadata": {
  "kernelspec": {
   "display_name": "Python 3 (ipykernel)",
   "language": "python",
   "name": "python3"
  },
  "language_info": {
   "codemirror_mode": {
    "name": "ipython",
    "version": 3
   },
   "file_extension": ".py",
   "mimetype": "text/x-python",
   "name": "python",
   "nbconvert_exporter": "python",
   "pygments_lexer": "ipython3",
   "version": "3.12.7"
  }
 },
 "nbformat": 4,
 "nbformat_minor": 5
}
